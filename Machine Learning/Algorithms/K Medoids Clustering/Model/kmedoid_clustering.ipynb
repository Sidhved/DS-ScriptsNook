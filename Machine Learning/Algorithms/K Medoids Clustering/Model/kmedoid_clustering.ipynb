{
 "cells": [
  {
   "cell_type": "markdown",
   "metadata": {
    "id": "1IYlrzOCgoYR"
   },
   "source": [
    "# **K Medoid Algorithm**"
   ]
  },
  {
   "cell_type": "markdown",
   "metadata": {
    "id": "j50bcWjtgvU9"
   },
   "source": [
    "K Medoid is a Clustering Algorithm in Machine Learning that uses Medoids (i.e. Actual Objects in a Cluster) to represent the Cluster."
   ]
  },
  {
   "cell_type": "markdown",
   "metadata": {
    "id": "vtDPkFeTgxc_"
   },
   "source": [
    "For using this library in Python this comes under Scikit Learn Extra Library."
   ]
  },
  {
   "cell_type": "markdown",
   "metadata": {
    "id": "9EAAb8Y1nQTf"
   },
   "source": [
    "This function operates on an given set of medoids and updates it inplace.\n",
    "\n",
    "## Parameters:\t\n",
    "**C – The cost matrix**, where the cost in K-Medoids algorithm is given as – The dissimilarity of the medoid(Ci) and object(Pi) is calculated by using E = |Pi - Ci|\n",
    "<br>\n",
    "**Medoids** – The vector of medoid indexes. <br>The contents of medoids serve as the initial guess and will be overrided by the results."
   ]
  },
  {
   "cell_type": "markdown",
   "metadata": {
    "id": "1XOPH5SJoAeM"
   },
   "source": [
    "## K Medoid Clustering Process\n",
    "<ol>\n",
    "  <li>Initialize: select k random points out of the n data points as the medoids.</li>\n",
    "  <li>Associate each data point to the closest medoid by using any common distance metric methods.</li>\n",
    "  <li>While the cost decreases:<br>\n",
    "        For each medoid m, for each data o point which is not a medoid:\n",
    "    <ol>\n",
    "      <li>Swap m and o, associate each data point to the closest medoid, recompute the cost.</li>\n",
    "      <li>If the total cost is more than that in the previous step, undo the swap.</li>\n",
    "    </ol>\n",
    "  </li>\n",
    "</ol>  \n"
   ]
  },
  {
   "cell_type": "markdown",
   "metadata": {
    "id": "OmGfNSfUgzDE"
   },
   "source": [
    "In this file , we will showcase how a basic K Medoid Algorithm works in Python , on a randomly created Dataset."
   ]
  },
  {
   "cell_type": "markdown",
   "metadata": {},
   "source": [
    "Installing the scikit extra library because it isnt inbuilt"
   ]
  },
  {
   "cell_type": "code",
   "execution_count": 8,
   "metadata": {
    "colab": {
     "base_uri": "https://localhost:8080/"
    },
    "id": "h77AWPvfiB76",
    "outputId": "47df4fa5-1816-46f6-f623-17608c6674f5"
   },
   "outputs": [
    {
     "name": "stdout",
     "output_type": "stream",
     "text": [
      "Requirement already satisfied: scikit-learn-extra in c:\\users\\shiwa\\anaconda3\\lib\\site-packages (0.2.0)\n",
      "Requirement already satisfied: scikit-learn>=0.23.0 in c:\\users\\shiwa\\anaconda3\\lib\\site-packages (from scikit-learn-extra) (0.24.1)\n",
      "Requirement already satisfied: scipy>=0.19.1 in c:\\users\\shiwa\\anaconda3\\lib\\site-packages (from scikit-learn-extra) (1.6.2)\n",
      "Requirement already satisfied: numpy>=1.13.3 in c:\\users\\shiwa\\anaconda3\\lib\\site-packages (from scikit-learn-extra) (1.20.1)\n",
      "Requirement already satisfied: threadpoolctl>=2.0.0 in c:\\users\\shiwa\\anaconda3\\lib\\site-packages (from scikit-learn>=0.23.0->scikit-learn-extra) (2.1.0)\n",
      "Requirement already satisfied: joblib>=0.11 in c:\\users\\shiwa\\anaconda3\\lib\\site-packages (from scikit-learn>=0.23.0->scikit-learn-extra) (1.0.1)\n"
     ]
    }
   ],
   "source": [
    "!pip install scikit-learn-extra "
   ]
  },
  {
   "cell_type": "markdown",
   "metadata": {
    "id": "fXnctd_zolGl"
   },
   "source": [
    "## Importing Libraries"
   ]
  },
  {
   "cell_type": "code",
   "execution_count": 9,
   "metadata": {
    "id": "RA1ExtSfgkab"
   },
   "outputs": [],
   "source": [
    "import matplotlib.pyplot as plt #Used for plotting graphs\n",
    "from sklearn.datasets import make_blobs #Used for creating random dataset\n",
    "from sklearn_extra.cluster import KMedoids #KMedoid is provided under Scikit-Learn Extra\n",
    "from sklearn.metrics import confusion_matrix\n",
    "from sklearn.metrics import silhouette_score\n",
    "import numpy as np \n",
    "import pandas as pd"
   ]
  },
  {
   "cell_type": "markdown",
   "metadata": {
    "id": "-l9UR35Tonr9"
   },
   "source": [
    "## Generating Data"
   ]
  },
  {
   "cell_type": "code",
   "execution_count": 21,
   "metadata": {
    "id": "f4W827BshMjg"
   },
   "outputs": [],
   "source": [
    "data, clusters = make_blobs(\n",
    "    n_samples=1000, centers=7, cluster_std=0.4, random_state=0\n",
    ")"
   ]
  },
  {
   "cell_type": "code",
   "execution_count": 22,
   "metadata": {
    "colab": {
     "base_uri": "https://localhost:8080/",
     "height": 265
    },
    "id": "nLj6FN0Mkm9r",
    "outputId": "b4571701-37b0-4c26-853d-ab47ccda5392"
   },
   "outputs": [
    {
     "data": {
      "image/png": "[encoded data removed]",
      "text/plain": [
       "<Figure size 432x288 with 1 Axes>"
      ]
     },
     "metadata": {
      "needs_background": "light"
     },
     "output_type": "display_data"
    }
   ],
   "source": [
    "# Originally created plot with data\n",
    "plt.scatter(data[:,0], data[:,1])\n",
    "plt.show()"
   ]
  },
  {
   "cell_type": "markdown",
   "metadata": {
    "id": "FQ4QDcCpot6M"
   },
   "source": [
    "## Model Creation"
   ]
  },
  {
   "cell_type": "code",
   "execution_count": 23,
   "metadata": {
    "id": "Ihyuk4rAiziW"
   },
   "outputs": [],
   "source": [
    "# Creating KMedoids Model\n",
    "Km_model = KMedoids(n_clusters=5) # n_clusters means the number of clusters to form as well as the number of medoids to generate."
   ]
  },
  {
   "cell_type": "code",
   "execution_count": 24,
   "metadata": {
    "colab": {
     "base_uri": "https://localhost:8080/"
    },
    "id": "_BxT5mork81r",
    "outputId": "7ff951df-bbb7-4d37-ba13-c79451767c8e"
   },
   "outputs": [
    {
     "data": {
      "text/plain": [
       "KMedoids(n_clusters=5)"
      ]
     },
     "execution_count": 24,
     "metadata": {},
     "output_type": "execute_result"
    }
   ],
   "source": [
    "Km_model.fit(data) #Fitting the data"
   ]
  },
  {
   "cell_type": "code",
   "execution_count": 25,
   "metadata": {
    "id": "pt2QMyYmlHwU"
   },
   "outputs": [],
   "source": [
    "pred = Km_model.predict(data) #predicting on our randomly created dataset"
   ]
  },
  {
   "cell_type": "code",
   "execution_count": 26,
   "metadata": {
    "id": "xFqAOVrMlSYG"
   },
   "outputs": [],
   "source": [
    "labels_KMed = Km_model.labels_ #storing labels to check accuracy of model"
   ]
  },
  {
   "cell_type": "markdown",
   "metadata": {
    "id": "acn1qDp-oxH6"
   },
   "source": [
    "## Plotting our observations"
   ]
  },
  {
   "cell_type": "code",
   "execution_count": 27,
   "metadata": {
    "colab": {
     "base_uri": "https://localhost:8080/",
     "height": 281
    },
    "id": "OcS8T6lQlb6j",
    "outputId": "5f6d6cd8-5859-4eb7-b0b6-4877eeaa568d"
   },
   "outputs": [
    {
     "data": {
      "image/png": "[encoded data removed]",
      "text/plain": [
       "<Figure size 432x288 with 1 Axes>"
      ]
     },
     "metadata": {
      "needs_background": "light"
     },
     "output_type": "display_data"
    }
   ],
   "source": [
    "# Viewing our Prediction using Plots\n",
    "plt.scatter(data[:, 0], data[:, 1], c = pred , cmap='rainbow')\n",
    "plt.plot(\n",
    "    Km_model.cluster_centers_[:, 0],\n",
    "    Km_model.cluster_centers_[:, 1],\n",
    "    \"o\",\n",
    "    markerfacecolor=\"gold\",\n",
    "    markeredgecolor=\"k\",\n",
    "    markersize=6,\n",
    ")\n",
    "\n",
    "plt.title(\"KMedoids clustering. Medoids are represented in Golden Colour\")\n",
    "plt.show()"
   ]
  },
  {
   "cell_type": "code",
   "execution_count": 28,
   "metadata": {
    "colab": {
     "base_uri": "https://localhost:8080/"
    },
    "id": "9XP3p4Rpmewi",
    "outputId": "c512661f-d9eb-4499-fb2a-b21584d2444c"
   },
   "outputs": [
    {
     "data": {
      "text/plain": [
       "array([[-1.54935722,  2.91732824],\n",
       "       [ 3.13375714,  0.86809379],\n",
       "       [ 0.48931861,  8.2600726 ],\n",
       "       [ 0.85164907,  4.32625346],\n",
       "       [ 9.31521808, -2.27760445]])"
      ]
     },
     "execution_count": 28,
     "metadata": {},
     "output_type": "execute_result"
    }
   ],
   "source": [
    "Km_model.cluster_centers_ #points which were selected for Medoids in our clustering data"
   ]
  },
  {
   "cell_type": "markdown",
   "metadata": {
    "id": "b8R9V0K-l0a5"
   },
   "source": [
    "## Accuracy of K Medoid Clustering"
   ]
  },
  {
   "cell_type": "code",
   "execution_count": 29,
   "metadata": {
    "colab": {
     "base_uri": "https://localhost:8080/"
    },
    "id": "yvtPL44vikfa",
    "outputId": "46865561-94db-4ecb-da2e-5cf13bb25ea9"
   },
   "outputs": [
    {
     "data": {
      "text/plain": [
       "0.6376416381548055"
      ]
     },
     "execution_count": 29,
     "metadata": {},
     "output_type": "execute_result"
    }
   ],
   "source": [
    "KMed_score = silhouette_score(data, labels_KMed)\n",
    "KMed_score"
   ]
  },
  {
   "cell_type": "markdown",
   "metadata": {
    "id": "swaOXrlKoUjZ"
   },
   "source": [
    "On this randomly created dataset we got an accuracy of 81.1 %"
   ]
  },
  {
   "cell_type": "markdown",
   "metadata": {},
   "source": [
    "### Comparing K Medoids with other Clustering Algorithms"
   ]
  },
  {
   "cell_type": "markdown",
   "metadata": {},
   "source": [
    "#### KMeans"
   ]
  },
  {
   "cell_type": "code",
   "execution_count": 30,
   "metadata": {},
   "outputs": [],
   "source": [
    "from sklearn.cluster import KMeans"
   ]
  },
  {
   "cell_type": "code",
   "execution_count": 31,
   "metadata": {},
   "outputs": [
    {
     "data": {
      "text/plain": [
       "KMeans(init='random', n_clusters=3, random_state=0)"
      ]
     },
     "execution_count": 31,
     "metadata": {},
     "output_type": "execute_result"
    }
   ],
   "source": [
    "kmeans = KMeans(n_clusters = 3, init = 'random', max_iter = 300, n_init = 10, random_state = 0)\n",
    "kmeans.fit(data)"
   ]
  },
  {
   "cell_type": "code",
   "execution_count": 35,
   "metadata": {},
   "outputs": [],
   "source": [
    "labels_Kmeans = kmeans.labels_ #storing labels to check accuracy of model"
   ]
  },
  {
   "cell_type": "code",
   "execution_count": 36,
   "metadata": {},
   "outputs": [
    {
     "data": {
      "text/plain": [
       "0.5941266549547679"
      ]
     },
     "execution_count": 36,
     "metadata": {},
     "output_type": "execute_result"
    }
   ],
   "source": [
    "Kmeans_score = silhouette_score(data, labels_Kmeans)\n",
    "Kmeans_score"
   ]
  },
  {
   "cell_type": "code",
   "execution_count": 39,
   "metadata": {},
   "outputs": [],
   "source": [
    "from sklearn.cluster import Birch"
   ]
  },
  {
   "cell_type": "code",
   "execution_count": 40,
   "metadata": {},
   "outputs": [
    {
     "data": {
      "text/plain": [
       "Birch(branching_factor=100, n_clusters=2)"
      ]
     },
     "execution_count": 40,
     "metadata": {},
     "output_type": "execute_result"
    }
   ],
   "source": [
    "birchmodel=Birch(n_clusters=2,threshold=0.5,branching_factor=100)\n",
    "birchmodel.fit(data)"
   ]
  },
  {
   "cell_type": "code",
   "execution_count": 41,
   "metadata": {},
   "outputs": [],
   "source": [
    "labels_birch = birchmodel.labels_ #storing labels to check accuracy of model"
   ]
  },
  {
   "cell_type": "code",
   "execution_count": 42,
   "metadata": {},
   "outputs": [
    {
     "data": {
      "text/plain": [
       "0.571566578567698"
      ]
     },
     "execution_count": 42,
     "metadata": {},
     "output_type": "execute_result"
    }
   ],
   "source": [
    "birch_score = silhouette_score(data, labels_birch)\n",
    "birch_score"
   ]
  },
  {
   "cell_type": "code",
   "execution_count": 43,
   "metadata": {},
   "outputs": [
    {
     "data": {
      "text/html": [
       "<div>\n",
       "<style scoped>\n",
       "    .dataframe tbody tr th:only-of-type {\n",
       "        vertical-align: middle;\n",
       "    }\n",
       "\n",
       "    .dataframe tbody tr th {\n",
       "        vertical-align: top;\n",
       "    }\n",
       "\n",
       "    .dataframe thead th {\n",
       "        text-align: right;\n",
       "    }\n",
       "</style>\n",
       "<table border=\"1\" class=\"dataframe\">\n",
       "  <thead>\n",
       "    <tr style=\"text-align: right;\">\n",
       "      <th></th>\n",
       "      <th>Model</th>\n",
       "      <th>Scores</th>\n",
       "    </tr>\n",
       "  </thead>\n",
       "  <tbody>\n",
       "    <tr>\n",
       "      <th>0</th>\n",
       "      <td>KMedoids</td>\n",
       "      <td>0.637642</td>\n",
       "    </tr>\n",
       "    <tr>\n",
       "      <th>1</th>\n",
       "      <td>KMeans</td>\n",
       "      <td>0.594127</td>\n",
       "    </tr>\n",
       "    <tr>\n",
       "      <th>2</th>\n",
       "      <td>Birch</td>\n",
       "      <td>0.571567</td>\n",
       "    </tr>\n",
       "  </tbody>\n",
       "</table>\n",
       "</div>"
      ],
      "text/plain": [
       "      Model    Scores\n",
       "0  KMedoids  0.637642\n",
       "1    KMeans  0.594127\n",
       "2     Birch  0.571567"
      ]
     },
     "execution_count": 43,
     "metadata": {},
     "output_type": "execute_result"
    }
   ],
   "source": [
    "model_ev = pd.DataFrame({'Model': ['KMedoids','KMeans','Birch'], \n",
    "                         'Scores': [KMed_score, Kmeans_score , birch_score]})\n",
    "model_ev"
   ]
  },
  {
   "cell_type": "markdown",
   "metadata": {},
   "source": [
    "So we can see in this scenario K Medoids performs equally well like other Clustering Algorithms"
   ]
  },
  {
   "cell_type": "markdown",
   "metadata": {
    "id": "IKE4ns8An6GG"
   },
   "source": [
    "## Thanks a lot!"
   ]
  }
 ],
 "metadata": {
  "colab": {
   "collapsed_sections": [],
   "name": "k_medoid_algorithm.ipynb",
   "provenance": []
  },
  "kernelspec": {
   "display_name": "Python 3",
   "language": "python",
   "name": "python3"
  },
  "language_info": {
   "codemirror_mode": {
    "name": "ipython",
    "version": 3
   },
   "file_extension": ".py",
   "mimetype": "text/x-python",
   "name": "python",
   "nbconvert_exporter": "python",
   "pygments_lexer": "ipython3",
   "version": "3.8.8"
  }
 },
 "nbformat": 4,
 "nbformat_minor": 1
}
